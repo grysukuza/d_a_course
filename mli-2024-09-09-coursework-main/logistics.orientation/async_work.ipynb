{
 "cells": [
  {
   "cell_type": "markdown",
   "metadata": {},
   "source": [
    "# Async Work"
   ]
  },
  {
   "cell_type": "markdown",
   "metadata": {},
   "source": [
    "When a time block is to be spent working on the curriculum with a study buddy or project partners, we mark the calendar event with a blue dot emoji (🔵)."
   ]
  },
  {
   "cell_type": "markdown",
   "metadata": {},
   "source": [
    "## Phases of the Curriculum"
   ]
  },
  {
   "cell_type": "markdown",
   "metadata": {},
   "source": [
    "There are 7 phases of the curriculum:\n",
    "- Shallow Learning\n",
    "  - 1) Labs\n",
    "  - 2) Larger yoga project\n",
    "- Deep Learning\n",
    "  - 3) Labs\n",
    "  - 4) Larger yoga project\n",
    "- Leveraged ML\n",
    "  - 5) Labs\n",
    "  - 6) Larger yoga project\n",
    "- Graduate Portfolio Program (GPP)\n",
    "  - 7) Ongoing coworking on portfolio project"
   ]
  },
  {
   "cell_type": "markdown",
   "metadata": {},
   "source": [
    "## Assignment Types"
   ]
  },
  {
   "cell_type": "markdown",
   "metadata": {},
   "source": [
    "- 🔵🚶 Walkthrough lab\n",
    "  - A guided tour of fully-working code that illustrates exactly how to do something.\n",
    "- 🔵🏋️ eXercise lab\n",
    "  - Similar to a walkthrough, but with challenges baked in along the way.\n",
    "- 🔵🧘 Yoga lab\n",
    "  - An open-ended prompt to tackle from scratch.\n",
    "- 🔵🎨 Project\n",
    "  - A larger scale undertaking.\n",
    "  - For these, you'll be paired with someone for active, conversational collaboration.\n",
    "    - 🚨 Stay in lock step together, and avoid working independently."
   ]
  },
  {
   "cell_type": "markdown",
   "metadata": {},
   "source": [
    "## Lab Time Estimates"
   ]
  },
  {
   "cell_type": "markdown",
   "metadata": {},
   "source": [
    "The calendar shows approximate start and end times for each lab.\n",
    "- 🚨 These time boxes are only guidelines\n",
    "- If you finish a lab before the end of the suggested time box\n",
    "  - Get a head start on the next lab, -or-\n",
    "  - Do the extra credit sections in this lab, if you're confident you won't fall behind\n",
    "- If you don’t finish in the suggested time box\n",
    "  - Keep working on that lab in the next time block\n",
    "  - Finish every \"minimum\" section of the labs before moving on to the next lab\n",
    "  - Try hard to finish the \"ideal\" sections, since this is where you get the important practice\n",
    "  - You need to understand all the earlier content in order to understand the later content\n",
    "\n",
    "🚨 Whenever you and your lab study buddy have finished, we’ll re-pair you for the project with someone who finished around the same time."
   ]
  },
  {
   "cell_type": "markdown",
   "metadata": {},
   "source": [
    "## Project Phases"
   ]
  }
 ],
 "metadata": {
  "language_info": {
   "name": "python"
  }
 },
 "nbformat": 4,
 "nbformat_minor": 2
}
