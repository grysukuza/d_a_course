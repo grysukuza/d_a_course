{
 "cells": [
  {
   "cell_type": "markdown",
   "metadata": {},
   "source": [
    "# Synchronous Events"
   ]
  },
  {
   "cell_type": "markdown",
   "metadata": {},
   "source": [
    "When the whole class must gather together, we mark at calendar event with a red dot emoji (🔴)\n",
    "\n",
    "> 🚨 IMPORTANT: Out of respect for your cohortmates' time and energy, arrive at least 1 minute early so we can start right on time.\n",
    "\n",
    "- 🔴🧑‍🏫 Lectures\n",
    "- 🔴📸 Video Journals\n",
    "  - Your chance to let us know how things are going for you individually\n",
    "- 🔴🙏 Retrospectives\n",
    "  - The cohort's chance to give shoutouts, feedback, needs, and ideas\n",
    "- 🔴🧑‍🏫 Lightning Talks\n",
    "  - Hear about your peer's nerdy interests\n",
    "  - Done right after dinner, whenever it wouldn't conflict with other events planned\n",
    "- 🔴🎤 Industry Speakers\n",
    "- 🔴🗯️ Project Presentations\n",
    "  - At the end of each project section, we'll show you a rundown of how the problem might be approached.\n",
    "  - This will be a mixture of presenter driven story, and reports from the students in your cohort."
   ]
  }
 ],
 "metadata": {
  "language_info": {
   "name": "python"
  }
 },
 "nbformat": 4,
 "nbformat_minor": 2
}
