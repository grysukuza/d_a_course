{
 "cells": [
  {
   "cell_type": "markdown",
   "metadata": {},
   "source": [
    "# Collaboration"
   ]
  },
  {
   "cell_type": "markdown",
   "metadata": {},
   "source": [
    "## Study Buddies and Project Collaborators"
   ]
  },
  {
   "cell_type": "markdown",
   "metadata": {},
   "source": [
    "🚨 About 5 times throughout the cohort, we'll match you with different study buddies and project collaborators. We’re open to requests if you have them."
   ]
  },
  {
   "cell_type": "markdown",
   "metadata": {},
   "source": [
    "## Don't Feel Bashful"
   ]
  },
  {
   "cell_type": "markdown",
   "metadata": {},
   "source": [
    "Here's a tip about pairing our alums asked us to pass along:\n",
    "> \"Pressing 'share screen' reduces your self-perceived IQ by 50 points. Don't worry, you’re not doing it wrong.\""
   ]
  },
  {
   "cell_type": "markdown",
   "metadata": {},
   "source": [
    "## Lab Study Buddies"
   ]
  },
  {
   "cell_type": "markdown",
   "metadata": {},
   "source": [
    "🚨 Most lab work is best done independently, but you'll also be provided a \"study buddy\" from your cohort. Work alongside your study buddy in the same room, for motivation and to clarify simple things with, but don't worry about moving in lock step together.\n",
    "\n",
    "Note: While lab study buddies have a less active collaboration, project pairing collaborators (described below) will collaborate very actively."
   ]
  },
  {
   "cell_type": "markdown",
   "metadata": {},
   "source": [
    "## When You've Completed A Labs Phase"
   ]
  },
  {
   "cell_type": "markdown",
   "metadata": {},
   "source": [
    "🚨 Submit a help request, so we can pair you with someone else who recently finished."
   ]
  },
  {
   "cell_type": "markdown",
   "metadata": {},
   "source": [
    "## Project Collaborators"
   ]
  },
  {
   "cell_type": "markdown",
   "metadata": {},
   "source": [
    "🚨 When working on projets, you'll be placed in a group of 2, 3, or 4 people. In this arrangement, you should be actively discussing and experimenting together quite a lot."
   ]
  },
  {
   "cell_type": "markdown",
   "metadata": {},
   "source": [
    "## Final Project Collaborators"
   ]
  },
  {
   "cell_type": "markdown",
   "metadata": {},
   "source": [
    "You have to find your own final project collaborators.\n",
    "- If you don’t find one in time, we’ll have to assign you randomly!\n",
    "\n",
    "You’ll continue past your last project with the same collaborators into the 1st cycle of the Graduate Portfolio Program\n",
    "- If you won't participate in the 1st GPP cycle, work with someone else who won't!"
   ]
  },
  {
   "cell_type": "markdown",
   "metadata": {},
   "source": [
    "## Logging Project Ideas"
   ]
  },
  {
   "cell_type": "markdown",
   "metadata": {},
   "source": [
    "🚨 Make sure you have somewhere to log your GPP project ideas quickly & easily. This is how you'll interest people in working with you!\n",
    "\n",
    "Capture your\n",
    "\n",
    "- ML app ideas\n",
    "- Missed extra credit sections\n",
    "- Wish-list improvements to past projects\n",
    "- Kaggle challenges you find interesting\n",
    "\n",
    "Hint: You can add a section to your cohort’s collaborative notes file called \"____'s Project Ideas\".\n",
    "\n",
    "> 🚨 Take a moment now to set up or bookmark whatever tool or page you'll use"
   ]
  }
 ],
 "metadata": {
  "language_info": {
   "name": "python"
  }
 },
 "nbformat": 4,
 "nbformat_minor": 2
}
