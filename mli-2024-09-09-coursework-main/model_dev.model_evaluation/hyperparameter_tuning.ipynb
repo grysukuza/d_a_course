{
 "cells": [
  {
   "cell_type": "markdown",
   "metadata": {},
   "source": [
    "# Exercise: Hyperparameter Tuning\n"
   ]
  },
  {
   "cell_type": "markdown",
   "metadata": {},
   "source": [
    "`#scikit-learn` `#hyperparameter-tuning` `#svm` `#grid-search` `#random-search`\n"
   ]
  },
  {
   "cell_type": "markdown",
   "metadata": {},
   "source": [
    "> **Objectives**:\n",
    ">\n",
    "> - Understand how hyperparameter tuning can improve model performance\n",
    "> - Use Scikit-Learn to implement Grid Search and Randomized Search for tuning an SVM\n",
    "> - Visualize the results of hyperparameter tuning\n"
   ]
  },
  {
   "cell_type": "markdown",
   "metadata": {},
   "source": [
    "## Standard Deep Atlas Exercise Set Up\n"
   ]
  },
  {
   "cell_type": "markdown",
   "metadata": {},
   "source": [
    "- [x] Ensure you are using the coursework Pipenv environment and kernel ([instructions](../SETUP.md))\n",
    "- [x] Apply the standard Deep Atlas environment setup process by running this cell:\n"
   ]
  },
  {
   "cell_type": "code",
   "execution_count": 30,
   "metadata": {},
   "outputs": [
    {
     "name": "stdout",
     "output_type": "stream",
     "text": [
      "🎉 Running in a Virtual environment\n"
     ]
    }
   ],
   "source": [
    "import sys, os\n",
    "sys.path.insert(0, os.path.join('..', 'includes'))\n",
    "\n",
    "import deep_atlas\n",
    "from deep_atlas import FILL_THIS_IN\n",
    "deep_atlas.initialize_environment()\n",
    "if deep_atlas.environment == 'COLAB':\n",
    "    %pip install -q python-dotenv==1.0.0"
   ]
  },
  {
   "cell_type": "markdown",
   "metadata": {},
   "source": [
    "## 🚦 Checkpoint: Start\n"
   ]
  },
  {
   "cell_type": "markdown",
   "metadata": {},
   "source": [
    "- [x] Run this cell to record your start time:\n"
   ]
  },
  {
   "cell_type": "code",
   "execution_count": 31,
   "metadata": {},
   "outputs": [
    {
     "name": "stdout",
     "output_type": "stream",
     "text": [
      "🚀 Success! Get started...\n"
     ]
    }
   ],
   "source": [
    "deep_atlas.log_start_time()"
   ]
  },
  {
   "cell_type": "markdown",
   "metadata": {},
   "source": [
    "---\n"
   ]
  },
  {
   "cell_type": "markdown",
   "metadata": {},
   "source": [
    "## Context\n"
   ]
  },
  {
   "cell_type": "markdown",
   "metadata": {},
   "source": [
    "Hyperparameter tuning is a crucial step in machine learning that can significantly impact model performance. Instead of relying on default settings, we adjust these **hyperparameters** to optimize the model.\n",
    "\n",
    "In this exercise, we will:\n",
    "\n",
    "1. Use **Grid Search** and **Randomized Search** to tune hyperparameters for a **Support Vector Machine (SVM)**.\n",
    "2. Visualize the impact of tuning hyperparameters.\n",
    "3. Evaluate the best-tuned model on the test set.\n"
   ]
  },
  {
   "cell_type": "markdown",
   "metadata": {},
   "source": [
    "## Imports\n"
   ]
  },
  {
   "cell_type": "code",
   "execution_count": 32,
   "metadata": {},
   "outputs": [],
   "source": [
    "import numpy as np\n",
    "import matplotlib.pyplot as plt\n",
    "from sklearn.datasets import fetch_olivetti_faces\n",
    "from sklearn.model_selection import (\n",
    "    train_test_split,\n",
    "    GridSearchCV,\n",
    "    RandomizedSearchCV,\n",
    ")\n",
    "from sklearn.preprocessing import StandardScaler\n",
    "from sklearn.svm import SVC\n",
    "from scipy.stats import uniform"
   ]
  },
  {
   "cell_type": "markdown",
   "metadata": {},
   "source": [
    "## Data\n"
   ]
  },
  {
   "cell_type": "markdown",
   "metadata": {},
   "source": [
    "For the purposes of illustration, we will use the Olivetti Faces Dataset to classify faces based on image properties.\n",
    "\n",
    "- [x] Load the dataset and split the data into training and test sets:\n"
   ]
  },
  {
   "cell_type": "code",
   "execution_count": 33,
   "metadata": {},
   "outputs": [],
   "source": [
    "# Load the Olivetti Faces dataset\n",
    "data = fetch_olivetti_faces()\n",
    "X = data.data\n",
    "y = data.target"
   ]
  },
  {
   "cell_type": "markdown",
   "metadata": {},
   "source": [
    "- [x] Split the data into train and test sets\n"
   ]
  },
  {
   "cell_type": "code",
   "execution_count": 34,
   "metadata": {},
   "outputs": [],
   "source": [
    "X_train, X_test, y_train, y_test = train_test_split(\n",
    "    X, y, test_size=0.2, random_state=42\n",
    ")"
   ]
  },
  {
   "cell_type": "markdown",
   "metadata": {},
   "source": [
    "- [x] Standardize the features\n"
   ]
  },
  {
   "cell_type": "code",
   "execution_count": 35,
   "metadata": {},
   "outputs": [],
   "source": [
    "scaler = StandardScaler()\n",
    "X_train = scaler.fit_transform(X_train)\n",
    "X_test = scaler.transform(X_test)"
   ]
  },
  {
   "cell_type": "markdown",
   "metadata": {},
   "source": [
    "## Grid Search for SVM\n"
   ]
  },
  {
   "cell_type": "markdown",
   "metadata": {},
   "source": [
    "Grid Search is an exhaustive search over a predefined set of hyperparameters. We will tune the SVM by adjusting `C`, `gamma`, and `kernel` parameters.\n",
    "\n",
    "- [x] Set up and run Grid Search:\n"
   ]
  },
  {
   "cell_type": "code",
   "execution_count": 36,
   "metadata": {},
   "outputs": [
    {
     "name": "stderr",
     "output_type": "stream",
     "text": [
      "/Users/python/.local/share/virtualenvs/deep_atlas_course-JW55AXv8/lib/python3.11/site-packages/sklearn/model_selection/_split.py:776: UserWarning: The least populated class in y has only 4 members, which is less than n_splits=5.\n",
      "  warnings.warn(\n"
     ]
    },
    {
     "name": "stdout",
     "output_type": "stream",
     "text": [
      "Best Parameters (Grid Search): {'C': 0.1, 'gamma': 1, 'kernel': 'linear'}\n",
      "Best Cross-Validation Accuracy (Grid Search): 0.947\n"
     ]
    }
   ],
   "source": [
    "# Define the parameter grid\n",
    "param_grid = {\n",
    "    \"C\": [0.1, 1, 10],\n",
    "    \"gamma\": [1, 0.1, 0.01],\n",
    "    \"kernel\": [\"linear\", \"rbf\"],  # We're tuning the kernel as well\n",
    "}\n",
    "\n",
    "# Instantiate the model\n",
    "model = SVC()\n",
    "\n",
    "# Set up GridSearchCV\n",
    "grid_search = GridSearchCV(model, param_grid, cv=5, scoring=\"accuracy\")\n",
    "grid_search.fit(X_train, y_train)\n",
    "\n",
    "# Print the best parameters and score\n",
    "print(f\"Best Parameters (Grid Search): {grid_search.best_params_}\")\n",
    "print(\n",
    "    f\"Best Cross-Validation Accuracy (Grid Search): {grid_search.best_score_:.3f}\"\n",
    ")"
   ]
  },
  {
   "cell_type": "markdown",
   "metadata": {},
   "source": [
    "## Visualizing Grid Search Results\n"
   ]
  },
  {
   "cell_type": "markdown",
   "metadata": {},
   "source": [
    "To better understand how hyperparameters affect model performance, we will visualize the results of Grid Search using a heatmap. We will focus on `C` and `gamma` values for the **rbf** kernel.\n",
    "\n",
    "- [x] Create the heatmap visualization:\n"
   ]
  },
  {
   "cell_type": "code",
   "execution_count": 37,
   "metadata": {},
   "outputs": [
    {
     "data": {
      "image/png": "[encoded data removed]",
      "text/plain": [
       "<Figure size 800x600 with 2 Axes>"
      ]
     },
     "metadata": {},
     "output_type": "display_data"
    }
   ],
   "source": [
    "# Define a function to plot grid search results as a heatmap\n",
    "def plot_grid_search(\n",
    "    cv_results, param1, param2, param1_name, param2_name, kernel_name\n",
    "):\n",
    "    # Extract results for a specific kernel\n",
    "    mask = np.array(\n",
    "        [params[\"kernel\"] == kernel_name for params in cv_results[\"params\"]]\n",
    "    )\n",
    "\n",
    "    # Reshape to match the grid of C and gamma values\n",
    "    scores_mean = cv_results[\"mean_test_score\"][mask].reshape(\n",
    "        len(param1), len(param2)\n",
    "    )\n",
    "\n",
    "    plt.figure(figsize=(8, 6))\n",
    "    plt.imshow(scores_mean, interpolation=\"nearest\", cmap=\"Blues\")\n",
    "    plt.title(\n",
    "        f\"Grid Search Accuracy for {param1_name} and {param2_name} (Kernel={kernel_name})\"\n",
    "    )\n",
    "    plt.xlabel(param2_name)\n",
    "    plt.ylabel(param1_name)\n",
    "    plt.colorbar(label=\"Accuracy\")\n",
    "\n",
    "    # Add ticks and labels\n",
    "    plt.xticks(np.arange(len(param2)), param2)\n",
    "    plt.yticks(np.arange(len(param1)), param1)\n",
    "\n",
    "    # Annotate each cell with the accuracy score\n",
    "    for i in range(len(param1)):\n",
    "        for j in range(len(param2)):\n",
    "            plt.text(\n",
    "                j,\n",
    "                i,\n",
    "                f\"{scores_mean[i, j]:.3f}\",\n",
    "                ha=\"center\",\n",
    "                va=\"center\",\n",
    "                color=\"black\",\n",
    "            )\n",
    "\n",
    "    plt.show()\n",
    "\n",
    "\n",
    "# Visualize Grid Search results for 'C' and 'gamma' with 'rbf' kernel\n",
    "plot_grid_search(\n",
    "    grid_search.cv_results_,\n",
    "    param_grid[\"C\"],\n",
    "    param_grid[\"gamma\"],\n",
    "    \"C\",\n",
    "    \"Gamma\",\n",
    "    kernel_name=\"rbf\",\n",
    ")"
   ]
  },
  {
   "cell_type": "markdown",
   "metadata": {},
   "source": [
    "## Randomized Search for SVM\n"
   ]
  },
  {
   "cell_type": "markdown",
   "metadata": {},
   "source": [
    "Randomized Search randomly samples hyperparameters from a specified distribution. It is more efficient than Grid Search, especially when dealing with large parameter spaces.\n",
    "\n",
    "- [x] Set up and run Randomized Search:\n"
   ]
  },
  {
   "cell_type": "code",
   "execution_count": 38,
   "metadata": {},
   "outputs": [
    {
     "name": "stderr",
     "output_type": "stream",
     "text": [
      "/Users/python/.local/share/virtualenvs/deep_atlas_course-JW55AXv8/lib/python3.11/site-packages/sklearn/model_selection/_split.py:776: UserWarning: The least populated class in y has only 4 members, which is less than n_splits=5.\n",
      "  warnings.warn(\n"
     ]
    },
    {
     "name": "stdout",
     "output_type": "stream",
     "text": [
      "Best Parameters (Random Search): {'C': np.float64(3.845401188473625), 'gamma': np.float64(0.9607143064099162), 'kernel': 'linear'}\n",
      "Best Cross-Validation Accuracy (Random Search): 0.947\n"
     ]
    }
   ],
   "source": [
    "# Define the parameter distributions\n",
    "param_dist = {\n",
    "    \"C\": uniform(0.1, 10),\n",
    "    \"gamma\": uniform(0.01, 1),\n",
    "    \"kernel\": [\"linear\", \"rbf\"],\n",
    "}\n",
    "\n",
    "# Set up RandomizedSearchCV\n",
    "random_search = RandomizedSearchCV(\n",
    "    model, param_dist, n_iter=10, cv=5, scoring=\"accuracy\", random_state=42\n",
    ")\n",
    "random_search.fit(X_train, y_train)\n",
    "\n",
    "# Print best parameters and score\n",
    "print(f\"Best Parameters (Random Search): {random_search.best_params_}\")\n",
    "print(\n",
    "    f\"Best Cross-Validation Accuracy (Random Search): {random_search.best_score_:.3f}\"\n",
    ")"
   ]
  },
  {
   "cell_type": "markdown",
   "metadata": {},
   "source": [
    "## Visualizing Randomized Search Results\n"
   ]
  },
  {
   "cell_type": "markdown",
   "metadata": {},
   "source": [
    "- [x] Plot how the random search accuracy changes over iterations:\n"
   ]
  },
  {
   "cell_type": "code",
   "execution_count": 39,
   "metadata": {},
   "outputs": [
    {
     "data": {
      "image/png": "[encoded data removed]",
      "text/plain": [
       "<Figure size 800x600 with 1 Axes>"
      ]
     },
     "metadata": {},
     "output_type": "display_data"
    }
   ],
   "source": [
    "iterations = np.arange(1, random_search.n_iter + 1)\n",
    "plt.figure(figsize=(8, 6))\n",
    "plt.plot(\n",
    "    iterations, random_search.cv_results_[\"mean_test_score\"], marker=\"o\"\n",
    ")\n",
    "plt.title(\"Randomized Search Accuracy over Iterations\")\n",
    "plt.xlabel(\"Iteration\")\n",
    "plt.ylabel(\"Cross-Validation Accuracy\")\n",
    "plt.grid(True)\n",
    "plt.show()"
   ]
  },
  {
   "cell_type": "markdown",
   "metadata": {},
   "source": [
    "## Final Evaluation\n"
   ]
  },
  {
   "cell_type": "markdown",
   "metadata": {},
   "source": [
    "Once we have tuned our model, we will evaluate its performance on the test set.\n",
    "\n",
    "- [x] Evaluate the best model found by Grid Search on the test set:\n"
   ]
  },
  {
   "cell_type": "code",
   "execution_count": 40,
   "metadata": {},
   "outputs": [
    {
     "name": "stdout",
     "output_type": "stream",
     "text": [
      "SVM Test Accuracy: 0.963\n"
     ]
    }
   ],
   "source": [
    "# Get the best model from Grid Search\n",
    "best_svm_model = grid_search.best_estimator_\n",
    "\n",
    "# Evaluate the best model on the test set\n",
    "test_score = best_svm_model.score(X_test, y_test)\n",
    "print(f\"SVM Test Accuracy: {test_score:.3f}\")"
   ]
  },
  {
   "cell_type": "markdown",
   "metadata": {},
   "source": [
    "## 🚦 Checkpoint: Stop\n"
   ]
  },
  {
   "cell_type": "markdown",
   "metadata": {},
   "source": [
    "- [x] Complete the feedback form\n",
    "- [x] Run the cell to log your responses and record your stop time:\n"
   ]
  },
  {
   "cell_type": "code",
   "execution_count": 41,
   "metadata": {},
   "outputs": [
    {
     "name": "stdout",
     "output_type": "stream",
     "text": [
      "📝 Feedback logged!\n",
      "🎉 Thanks! You're all done.\n"
     ]
    }
   ],
   "source": [
    "deep_atlas.log_feedback(\n",
    "    {\n",
    "        # How long were you actively focused on this section? (HH:MM)\n",
    "        \"active_time\": \"00:30\",\n",
    "        # Did you feel finished with this section (Yes/No):\n",
    "        \"finished\": \"yes\",\n",
    "        # How much did you enjoy this section? (1–5)\n",
    "        \"enjoyment\": 4,\n",
    "        # How useful was this section? (1–5)\n",
    "        \"usefulness\": 4,\n",
    "        # Did you skip any steps?\n",
    "        \"skipped_steps\": \"no\",\n",
    "        # Any obvious opportunities for improvement?\n",
    "        \"suggestions\": [],\n",
    "    }\n",
    ")\n",
    "deep_atlas.log_stop_time()"
   ]
  },
  {
   "cell_type": "markdown",
   "metadata": {},
   "source": [
    "## You did it!\n"
   ]
  },
  {
   "cell_type": "markdown",
   "metadata": {},
   "source": [
    "In this exercise, you learned how to tune hyperparameters using **Grid Search** and **Randomized Search** for an SVM. By visualizing the results, you gained a deeper understanding of how hyperparameters like `C`, `gamma`, and `kernel` affect model performance. You also evaluated the final tuned model on the test set.\n",
    "\n",
    "Keep these concepts in mind as you tackle more advanced models and datasets in future exercises.\n"
   ]
  }
 ],
 "metadata": {
  "kernelspec": {
   "display_name": "Coursework-khinsGju",
   "language": "python",
   "name": "python3"
  },
  "language_info": {
   "codemirror_mode": {
    "name": "ipython",
    "version": 3
   },
   "file_extension": ".py",
   "mimetype": "text/x-python",
   "name": "python",
   "nbconvert_exporter": "python",
   "pygments_lexer": "ipython3",
   "version": "3.11.9"
  }
 },
 "nbformat": 4,
 "nbformat_minor": 2
}
