{
    "cells": [
        {
            "cell_type": "markdown",
            "metadata": {},
            "source": [
                "<!-- # Exercise: Experiment Tracking with Weights & Biases -->\n"
            ]
        },
        {
            "cell_type": "markdown",
            "metadata": {},
            "source": [
                "<!-- `#scikit-learn` `#model-evaluation` `#experiment-tracking` `#weights-and-biases` -->\n"
            ]
        },
        {
            "cell_type": "markdown",
            "metadata": {},
            "source": [
                "<!-- > Objectives:\n",
                ">\n",
                "> - Integrate W&B with a SciKit-Learn model development cycle.\n",
                "> - Track model performance metrics.\n",
                "> - Visualize results using W&B's dashboard.\n",
                "> - Explore W&B's dashboard for interactive analysis and insights. -->\n"
            ]
        },
        {
            "cell_type": "markdown",
            "metadata": {},
            "source": [
                "<!-- ## Standard Deep Atlas Exercise Set Up -->\n"
            ]
        },
        {
            "cell_type": "markdown",
            "metadata": {},
            "source": [
                "<!-- - [x] Ensure you are using the coursework Pipenv environment and kernel ([instructions](../SETUP.md))\n",
                "- [x] Apply the standard Deep Atlas environment setup process by running this cell: -->\n"
            ]
        },
        {
            "cell_type": "code",
            "execution_count": 85,
            "metadata": {},
            "outputs": [
                {
                    "name": "stdout",
                    "output_type": "stream",
                    "text": [
                        "🎉 Running in a Virtual environment\n"
                    ]
                }
            ],
            "source": [
                "import sys, os\n",
                "sys.path.insert(0, os.path.join('..', 'includes'))\n",
                "\n",
                "import deep_atlas\n",
                "from deep_atlas import FILL_THIS_IN\n",
                "deep_atlas.initialize_environment()\n",
                "if deep_atlas.environment == 'COLAB':\n",
                "    %pip install -q python-dotenv==1.0.0"
            ]
        },
        {
            "cell_type": "markdown",
            "metadata": {},
            "source": [
                "<!-- ## 🚦 Checkpoint: Start -->\n"
            ]
        },
        {
            "cell_type": "markdown",
            "metadata": {},
            "source": [
                "<!-- - [x] Run this cell to record your start time: -->\n"
            ]
        },
        {
            "cell_type": "code",
            "execution_count": 86,
            "metadata": {},
            "outputs": [
                {
                    "name": "stdout",
                    "output_type": "stream",
                    "text": [
                        "🚀 Success! Get started...\n"
                    ]
                }
            ],
            "source": [
                "deep_atlas.log_start_time()"
            ]
        },
        {
            "cell_type": "markdown",
            "metadata": {},
            "source": [
                "<!-- --- -->"
            ]
        },
        {
            "cell_type": "markdown",
            "metadata": {},
            "source": [
                "<!-- ## Context -->\n"
            ]
        },
        {
            "cell_type": "markdown",
            "metadata": {},
            "source": [
                "<!-- Experiment tracking is crucial in machine learning to understand model performance, manage hyperparameters, and ensure reproducibility.\n",
                "\n",
                "Weights & Biases (W&B) is a tool that facilitates this process by providing robust tracking, visualization, and collaboration features.\n",
                "\n",
                "- [x] Sign up for an account at [wandb.ai](https://wandb.ai/). -->\n"
            ]
        },
        {
            "cell_type": "markdown",
            "metadata": {},
            "source": [
                "<!-- ## Imports -->\n"
            ]
        },
        {
            "cell_type": "code",
            "execution_count": 87,
            "metadata": {},
            "outputs": [],
            "source": [
                "import wandb\n",
                "from sklearn.datasets import load_iris\n",
                "from sklearn.model_selection import train_test_split\n",
                "from sklearn.preprocessing import StandardScaler\n",
                "from sklearn.tree import DecisionTreeClassifier\n",
                "from sklearn.metrics import (\n",
                "    accuracy_score,\n",
                "    precision_score,\n",
                "    recall_score,\n",
                "    f1_score,\n",
                "    ConfusionMatrixDisplay,\n",
                ")\n",
                "import matplotlib.pyplot as plt"
            ]
        },
        {
            "cell_type": "markdown",
            "metadata": {},
            "source": [
                "<!-- ## Data Preparation -->\n"
            ]
        },
        {
            "cell_type": "markdown",
            "metadata": {},
            "source": [
                "<!-- - [x] Load the Iris dataset and split it into training and test sets:\n",
                "  - The Iris flower dataset is a common test dataset for classification experiments. The features are petal and sepal lengths and widths and the classes are three iris species. -->\n"
            ]
        },
        {
            "cell_type": "code",
            "execution_count": 88,
            "metadata": {},
            "outputs": [],
            "source": [
                "iris = load_iris()\n",
                "X = iris.data\n",
                "y = iris.target\n",
                "\n",
                "X_train, X_test, y_train, y_test = train_test_split(\n",
                "    X, y, test_size=0.2, random_state=42\n",
                ")"
            ]
        },
        {
            "cell_type": "markdown",
            "metadata": {},
            "source": [
                "<!-- ## Initialize Weights & Biases -->\n"
            ]
        },
        {
            "cell_type": "markdown",
            "metadata": {},
            "source": [
                "<!-- Initializing a W&B run is the first step in logging and tracking experiment details. This process involves setting up a session where you can log hyperparameters, metrics, and visualize the results in real time. Each experiment should start with `wandb.init()` to ensure data integrity and proper resource management.\n",
                "\n",
                "- [x] Run the following command to log into your W&B account.\n",
                "  - This will prompt you to enter your W&B API key, which you can find in your W&B account settings. -->\n"
            ]
        },
        {
            "cell_type": "code",
            "execution_count": 89,
            "metadata": {},
            "outputs": [
                {
                    "data": {
                        "text/plain": [
                            "True"
                        ]
                    },
                    "execution_count": 89,
                    "metadata": {},
                    "output_type": "execute_result"
                }
            ],
            "source": [
                "wandb.login()"
            ]
        },
        {
            "cell_type": "markdown",
            "metadata": {},
            "source": [
                "<!-- - [x] Navigate to your W&B account settings to find your API key. Copy and paste it into the prompt when requested.\n",
                "\n",
                "- [x] Start a new W&B run:\n",
                "  - Once the _run_ is initiated, you can log any number of configuration parameters, events, and artifacts before finishing the run. Just make sure to _finish_ the run before changing values, restarting training, etc. -->\n"
            ]
        },
        {
            "cell_type": "code",
            "execution_count": 90,
            "metadata": {},
            "outputs": [
                {
                    "data": {
                        "text/html": [
                            "Changes to your `wandb` environment variables will be ignored because your `wandb` session has already started. For more information on how to modify your settings with `wandb.init()` arguments, please refer to <a href='https://wandb.me/wandb-init' target=\"_blank\">the W&B docs</a>."
                        ],
                        "text/plain": [
                            "<IPython.core.display.HTML object>"
                        ]
                    },
                    "metadata": {},
                    "output_type": "display_data"
                },
                {
                    "name": "stderr",
                    "output_type": "stream",
                    "text": [
                        "\u001b[34m\u001b[1mwandb\u001b[0m: \u001b[33mWARNING\u001b[0m Ignored wandb.init() arg project when running a sweep.\n"
                    ]
                },
                {
                    "data": {
                        "text/html": [
                            "Tracking run with wandb version 0.17.9"
                        ],
                        "text/plain": [
                            "<IPython.core.display.HTML object>"
                        ]
                    },
                    "metadata": {},
                    "output_type": "display_data"
                },
                {
                    "data": {
                        "text/html": [
                            "Run data is saved locally in <code>/Users/python/Documents/python/deep_atlas_course/mli-2024-09-09-coursework-main/model_dev.model_evaluation/wandb/run-20240909_195536-bnoacgl8</code>"
                        ],
                        "text/plain": [
                            "<IPython.core.display.HTML object>"
                        ]
                    },
                    "metadata": {},
                    "output_type": "display_data"
                },
                {
                    "data": {
                        "text/html": [
                            "Syncing run <strong><a href='https://wandb.ai/grysu_kuza-gk-inc/experiment-tracking-example/runs/bnoacgl8' target=\"_blank\">decision-tree-iris_2</a></strong> to <a href='https://wandb.ai/grysu_kuza-gk-inc/experiment-tracking-example' target=\"_blank\">Weights & Biases</a> (<a href='https://wandb.me/run' target=\"_blank\">docs</a>)<br/>Sweep page: <a href='https://wandb.ai/grysu_kuza-gk-inc/experiment-tracking-example/sweeps/ljwc67v2' target=\"_blank\">https://wandb.ai/grysu_kuza-gk-inc/experiment-tracking-example/sweeps/ljwc67v2</a>"
                        ],
                        "text/plain": [
                            "<IPython.core.display.HTML object>"
                        ]
                    },
                    "metadata": {},
                    "output_type": "display_data"
                },
                {
                    "data": {
                        "text/html": [
                            " View project at <a href='https://wandb.ai/grysu_kuza-gk-inc/experiment-tracking-example' target=\"_blank\">https://wandb.ai/grysu_kuza-gk-inc/experiment-tracking-example</a>"
                        ],
                        "text/plain": [
                            "<IPython.core.display.HTML object>"
                        ]
                    },
                    "metadata": {},
                    "output_type": "display_data"
                },
                {
                    "data": {
                        "text/html": [
                            " View sweep at <a href='https://wandb.ai/grysu_kuza-gk-inc/experiment-tracking-example/sweeps/ljwc67v2' target=\"_blank\">https://wandb.ai/grysu_kuza-gk-inc/experiment-tracking-example/sweeps/ljwc67v2</a>"
                        ],
                        "text/plain": [
                            "<IPython.core.display.HTML object>"
                        ]
                    },
                    "metadata": {},
                    "output_type": "display_data"
                },
                {
                    "data": {
                        "text/html": [
                            " View run at <a href='https://wandb.ai/grysu_kuza-gk-inc/experiment-tracking-example/runs/bnoacgl8' target=\"_blank\">https://wandb.ai/grysu_kuza-gk-inc/experiment-tracking-example/runs/bnoacgl8</a>"
                        ],
                        "text/plain": [
                            "<IPython.core.display.HTML object>"
                        ]
                    },
                    "metadata": {},
                    "output_type": "display_data"
                },
                {
                    "data": {
                        "text/html": [
                            "<button onClick=\"this.nextSibling.style.display='block';this.style.display='none';\">Display W&B run</button><iframe src='https://wandb.ai/grysu_kuza-gk-inc/experiment-tracking-example/runs/bnoacgl8?jupyter=true' style='border:none;width:100%;height:420px;display:none;'></iframe>"
                        ],
                        "text/plain": [
                            "<wandb.sdk.wandb_run.Run at 0x12b4a3710>"
                        ]
                    },
                    "execution_count": 90,
                    "metadata": {},
                    "output_type": "execute_result"
                }
            ],
            "source": [
                "wandb.init(project=\"experiment-tracking-example_2\", name=\"decision-tree-iris_2\")"
            ]
        },
        {
            "cell_type": "markdown",
            "metadata": {},
            "source": [
                "<!-- The `config` object in Weights & Biases allows you to log hyperparameters and other configuration details that define your experiment. This makes it easier to reproduce experiments and compare results across different runs.\n",
                "\n",
                "- [ ] Log experiment configuration:\n",
                "  - The config object should be a dictionary\n",
                "  - The key-value pairs can be arbitrary — you will likely want to store the value of any hyperparameters that you are experimenting with here.\n",
                "    - Start with the model type (DecisionTree), random_state seed (any integer), and max depth of the tree estimator (3). -->\n"
            ]
        },
        {
            "cell_type": "code",
            "execution_count": 91,
            "metadata": {},
            "outputs": [],
            "source": [
                "wandb.config = {\"model_type\": \"DecisionTree\",\n",
                "                \"random_state\": 42,\n",
                "                \"max_depth\": 3}"
            ]
        },
        {
            "cell_type": "markdown",
            "metadata": {},
            "source": [
                "<!-- <details>\n",
                "<summary>Solution:</summary>\n",
                "\n",
                "```python\n",
                "wandb.config = {\n",
                "    \"model_type\": \"DecisionTree\",\n",
                "    \"random_state\": 42,\n",
                "    \"max_depth\": 3,\n",
                "}\n",
                "```\n",
                "\n",
                "</details> -->\n"
            ]
        },
        {
            "cell_type": "markdown",
            "metadata": {},
            "source": [
                "<!-- ## Model Training -->\n"
            ]
        },
        {
            "cell_type": "markdown",
            "metadata": {},
            "source": [
                "<!-- - [x] Initialize the model and use the configuration values:\n",
                "  - Since we have set configuration values in the previous step, we can now use the properties in `wandb.config` as the argument values. -->\n"
            ]
        },
        {
            "cell_type": "code",
            "execution_count": 92,
            "metadata": {},
            "outputs": [],
            "source": [
                "model = DecisionTreeClassifier(\n",
                "    random_state=wandb.config[\"random_state\"], max_depth=wandb.config[\"max_depth\"]\n",
                ")"
            ]
        },
        {
            "cell_type": "markdown",
            "metadata": {},
            "source": [
                "<!-- <details>\n",
                "<summary>Solution:</summary>\n",
                "\n",
                "```python\n",
                "model = DecisionTreeClassifier(\n",
                "    random_state=wandb.config.random_state, max_depth=wandb.config.max_depth\n",
                ")\n",
                "```\n",
                "\n",
                "</details> -->\n"
            ]
        },
        {
            "cell_type": "markdown",
            "metadata": {},
            "source": [
                "<!-- - [x] Fit the model to the data: -->\n"
            ]
        },
        {
            "cell_type": "code",
            "execution_count": 93,
            "metadata": {},
            "outputs": [
                {
                    "data": {
                        "text/html": [
                            "<style>#sk-container-id-4 {\n",
                            "  /* Definition of color scheme common for light and dark mode */\n",
                            "  --sklearn-color-text: black;\n",
                            "  --sklearn-color-line: gray;\n",
                            "  /* Definition of color scheme for unfitted estimators */\n",
                            "  --sklearn-color-unfitted-level-0: #fff5e6;\n",
                            "  --sklearn-color-unfitted-level-1: #f6e4d2;\n",
                            "  --sklearn-color-unfitted-level-2: #ffe0b3;\n",
                            "  --sklearn-color-unfitted-level-3: chocolate;\n",
                            "  /* Definition of color scheme for fitted estimators */\n",
                            "  --sklearn-color-fitted-level-0: #f0f8ff;\n",
                            "  --sklearn-color-fitted-level-1: #d4ebff;\n",
                            "  --sklearn-color-fitted-level-2: #b3dbfd;\n",
                            "  --sklearn-color-fitted-level-3: cornflowerblue;\n",
                            "\n",
                            "  /* Specific color for light theme */\n",
                            "  --sklearn-color-text-on-default-background: var(--sg-text-color, var(--theme-code-foreground, var(--jp-content-font-color1, black)));\n",
                            "  --sklearn-color-background: var(--sg-background-color, var(--theme-background, var(--jp-layout-color0, white)));\n",
                            "  --sklearn-color-border-box: var(--sg-text-color, var(--theme-code-foreground, var(--jp-content-font-color1, black)));\n",
                            "  --sklearn-color-icon: #696969;\n",
                            "\n",
                            "  @media (prefers-color-scheme: dark) {\n",
                            "    /* Redefinition of color scheme for dark theme */\n",
                            "    --sklearn-color-text-on-default-background: var(--sg-text-color, var(--theme-code-foreground, var(--jp-content-font-color1, white)));\n",
                            "    --sklearn-color-background: var(--sg-background-color, var(--theme-background, var(--jp-layout-color0, #111)));\n",
                            "    --sklearn-color-border-box: var(--sg-text-color, var(--theme-code-foreground, var(--jp-content-font-color1, white)));\n",
                            "    --sklearn-color-icon: #878787;\n",
                            "  }\n",
                            "}\n",
                            "\n",
                            "#sk-container-id-4 {\n",
                            "  color: var(--sklearn-color-text);\n",
                            "}\n",
                            "\n",
                            "#sk-container-id-4 pre {\n",
                            "  padding: 0;\n",
                            "}\n",
                            "\n",
                            "#sk-container-id-4 input.sk-hidden--visually {\n",
                            "  border: 0;\n",
                            "  clip: rect(1px 1px 1px 1px);\n",
                            "  clip: rect(1px, 1px, 1px, 1px);\n",
                            "  height: 1px;\n",
                            "  margin: -1px;\n",
                            "  overflow: hidden;\n",
                            "  padding: 0;\n",
                            "  position: absolute;\n",
                            "  width: 1px;\n",
                            "}\n",
                            "\n",
                            "#sk-container-id-4 div.sk-dashed-wrapped {\n",
                            "  border: 1px dashed var(--sklearn-color-line);\n",
                            "  margin: 0 0.4em 0.5em 0.4em;\n",
                            "  box-sizing: border-box;\n",
                            "  padding-bottom: 0.4em;\n",
                            "  background-color: var(--sklearn-color-background);\n",
                            "}\n",
                            "\n",
                            "#sk-container-id-4 div.sk-container {\n",
                            "  /* jupyter's `normalize.less` sets `[hidden] { display: none; }`\n",
                            "     but bootstrap.min.css set `[hidden] { display: none !important; }`\n",
                            "     so we also need the `!important` here to be able to override the\n",
                            "     default hidden behavior on the sphinx rendered scikit-learn.org.\n",
                            "     See: https://github.com/scikit-learn/scikit-learn/issues/21755 */\n",
                            "  display: inline-block !important;\n",
                            "  position: relative;\n",
                            "}\n",
                            "\n",
                            "#sk-container-id-4 div.sk-text-repr-fallback {\n",
                            "  display: none;\n",
                            "}\n",
                            "\n",
                            "div.sk-parallel-item,\n",
                            "div.sk-serial,\n",
                            "div.sk-item {\n",
                            "  /* draw centered vertical line to link estimators */\n",
                            "  background-image: linear-gradient(var(--sklearn-color-text-on-default-background), var(--sklearn-color-text-on-default-background));\n",
                            "  background-size: 2px 100%;\n",
                            "  background-repeat: no-repeat;\n",
                            "  background-position: center center;\n",
                            "}\n",
                            "\n",
                            "/* Parallel-specific style estimator block */\n",
                            "\n",
                            "#sk-container-id-4 div.sk-parallel-item::after {\n",
                            "  content: \"\";\n",
                            "  width: 100%;\n",
                            "  border-bottom: 2px solid var(--sklearn-color-text-on-default-background);\n",
                            "  flex-grow: 1;\n",
                            "}\n",
                            "\n",
                            "#sk-container-id-4 div.sk-parallel {\n",
                            "  display: flex;\n",
                            "  align-items: stretch;\n",
                            "  justify-content: center;\n",
                            "  background-color: var(--sklearn-color-background);\n",
                            "  position: relative;\n",
                            "}\n",
                            "\n",
                            "#sk-container-id-4 div.sk-parallel-item {\n",
                            "  display: flex;\n",
                            "  flex-direction: column;\n",
                            "}\n",
                            "\n",
                            "#sk-container-id-4 div.sk-parallel-item:first-child::after {\n",
                            "  align-self: flex-end;\n",
                            "  width: 50%;\n",
                            "}\n",
                            "\n",
                            "#sk-container-id-4 div.sk-parallel-item:last-child::after {\n",
                            "  align-self: flex-start;\n",
                            "  width: 50%;\n",
                            "}\n",
                            "\n",
                            "#sk-container-id-4 div.sk-parallel-item:only-child::after {\n",
                            "  width: 0;\n",
                            "}\n",
                            "\n",
                            "/* Serial-specific style estimator block */\n",
                            "\n",
                            "#sk-container-id-4 div.sk-serial {\n",
                            "  display: flex;\n",
                            "  flex-direction: column;\n",
                            "  align-items: center;\n",
                            "  background-color: var(--sklearn-color-background);\n",
                            "  padding-right: 1em;\n",
                            "  padding-left: 1em;\n",
                            "}\n",
                            "\n",
                            "\n",
                            "/* Toggleable style: style used for estimator/Pipeline/ColumnTransformer box that is\n",
                            "clickable and can be expanded/collapsed.\n",
                            "- Pipeline and ColumnTransformer use this feature and define the default style\n",
                            "- Estimators will overwrite some part of the style using the `sk-estimator` class\n",
                            "*/\n",
                            "\n",
                            "/* Pipeline and ColumnTransformer style (default) */\n",
                            "\n",
                            "#sk-container-id-4 div.sk-toggleable {\n",
                            "  /* Default theme specific background. It is overwritten whether we have a\n",
                            "  specific estimator or a Pipeline/ColumnTransformer */\n",
                            "  background-color: var(--sklearn-color-background);\n",
                            "}\n",
                            "\n",
                            "/* Toggleable label */\n",
                            "#sk-container-id-4 label.sk-toggleable__label {\n",
                            "  cursor: pointer;\n",
                            "  display: block;\n",
                            "  width: 100%;\n",
                            "  margin-bottom: 0;\n",
                            "  padding: 0.5em;\n",
                            "  box-sizing: border-box;\n",
                            "  text-align: center;\n",
                            "}\n",
                            "\n",
                            "#sk-container-id-4 label.sk-toggleable__label-arrow:before {\n",
                            "  /* Arrow on the left of the label */\n",
                            "  content: \"▸\";\n",
                            "  float: left;\n",
                            "  margin-right: 0.25em;\n",
                            "  color: var(--sklearn-color-icon);\n",
                            "}\n",
                            "\n",
                            "#sk-container-id-4 label.sk-toggleable__label-arrow:hover:before {\n",
                            "  color: var(--sklearn-color-text);\n",
                            "}\n",
                            "\n",
                            "/* Toggleable content - dropdown */\n",
                            "\n",
                            "#sk-container-id-4 div.sk-toggleable__content {\n",
                            "  max-height: 0;\n",
                            "  max-width: 0;\n",
                            "  overflow: hidden;\n",
                            "  text-align: left;\n",
                            "  /* unfitted */\n",
                            "  background-color: var(--sklearn-color-unfitted-level-0);\n",
                            "}\n",
                            "\n",
                            "#sk-container-id-4 div.sk-toggleable__content.fitted {\n",
                            "  /* fitted */\n",
                            "  background-color: var(--sklearn-color-fitted-level-0);\n",
                            "}\n",
                            "\n",
                            "#sk-container-id-4 div.sk-toggleable__content pre {\n",
                            "  margin: 0.2em;\n",
                            "  border-radius: 0.25em;\n",
                            "  color: var(--sklearn-color-text);\n",
                            "  /* unfitted */\n",
                            "  background-color: var(--sklearn-color-unfitted-level-0);\n",
                            "}\n",
                            "\n",
                            "#sk-container-id-4 div.sk-toggleable__content.fitted pre {\n",
                            "  /* unfitted */\n",
                            "  background-color: var(--sklearn-color-fitted-level-0);\n",
                            "}\n",
                            "\n",
                            "#sk-container-id-4 input.sk-toggleable__control:checked~div.sk-toggleable__content {\n",
                            "  /* Expand drop-down */\n",
                            "  max-height: 200px;\n",
                            "  max-width: 100%;\n",
                            "  overflow: auto;\n",
                            "}\n",
                            "\n",
                            "#sk-container-id-4 input.sk-toggleable__control:checked~label.sk-toggleable__label-arrow:before {\n",
                            "  content: \"▾\";\n",
                            "}\n",
                            "\n",
                            "/* Pipeline/ColumnTransformer-specific style */\n",
                            "\n",
                            "#sk-container-id-4 div.sk-label input.sk-toggleable__control:checked~label.sk-toggleable__label {\n",
                            "  color: var(--sklearn-color-text);\n",
                            "  background-color: var(--sklearn-color-unfitted-level-2);\n",
                            "}\n",
                            "\n",
                            "#sk-container-id-4 div.sk-label.fitted input.sk-toggleable__control:checked~label.sk-toggleable__label {\n",
                            "  background-color: var(--sklearn-color-fitted-level-2);\n",
                            "}\n",
                            "\n",
                            "/* Estimator-specific style */\n",
                            "\n",
                            "/* Colorize estimator box */\n",
                            "#sk-container-id-4 div.sk-estimator input.sk-toggleable__control:checked~label.sk-toggleable__label {\n",
                            "  /* unfitted */\n",
                            "  background-color: var(--sklearn-color-unfitted-level-2);\n",
                            "}\n",
                            "\n",
                            "#sk-container-id-4 div.sk-estimator.fitted input.sk-toggleable__control:checked~label.sk-toggleable__label {\n",
                            "  /* fitted */\n",
                            "  background-color: var(--sklearn-color-fitted-level-2);\n",
                            "}\n",
                            "\n",
                            "#sk-container-id-4 div.sk-label label.sk-toggleable__label,\n",
                            "#sk-container-id-4 div.sk-label label {\n",
                            "  /* The background is the default theme color */\n",
                            "  color: var(--sklearn-color-text-on-default-background);\n",
                            "}\n",
                            "\n",
                            "/* On hover, darken the color of the background */\n",
                            "#sk-container-id-4 div.sk-label:hover label.sk-toggleable__label {\n",
                            "  color: var(--sklearn-color-text);\n",
                            "  background-color: var(--sklearn-color-unfitted-level-2);\n",
                            "}\n",
                            "\n",
                            "/* Label box, darken color on hover, fitted */\n",
                            "#sk-container-id-4 div.sk-label.fitted:hover label.sk-toggleable__label.fitted {\n",
                            "  color: var(--sklearn-color-text);\n",
                            "  background-color: var(--sklearn-color-fitted-level-2);\n",
                            "}\n",
                            "\n",
                            "/* Estimator label */\n",
                            "\n",
                            "#sk-container-id-4 div.sk-label label {\n",
                            "  font-family: monospace;\n",
                            "  font-weight: bold;\n",
                            "  display: inline-block;\n",
                            "  line-height: 1.2em;\n",
                            "}\n",
                            "\n",
                            "#sk-container-id-4 div.sk-label-container {\n",
                            "  text-align: center;\n",
                            "}\n",
                            "\n",
                            "/* Estimator-specific */\n",
                            "#sk-container-id-4 div.sk-estimator {\n",
                            "  font-family: monospace;\n",
                            "  border: 1px dotted var(--sklearn-color-border-box);\n",
                            "  border-radius: 0.25em;\n",
                            "  box-sizing: border-box;\n",
                            "  margin-bottom: 0.5em;\n",
                            "  /* unfitted */\n",
                            "  background-color: var(--sklearn-color-unfitted-level-0);\n",
                            "}\n",
                            "\n",
                            "#sk-container-id-4 div.sk-estimator.fitted {\n",
                            "  /* fitted */\n",
                            "  background-color: var(--sklearn-color-fitted-level-0);\n",
                            "}\n",
                            "\n",
                            "/* on hover */\n",
                            "#sk-container-id-4 div.sk-estimator:hover {\n",
                            "  /* unfitted */\n",
                            "  background-color: var(--sklearn-color-unfitted-level-2);\n",
                            "}\n",
                            "\n",
                            "#sk-container-id-4 div.sk-estimator.fitted:hover {\n",
                            "  /* fitted */\n",
                            "  background-color: var(--sklearn-color-fitted-level-2);\n",
                            "}\n",
                            "\n",
                            "/* Specification for estimator info (e.g. \"i\" and \"?\") */\n",
                            "\n",
                            "/* Common style for \"i\" and \"?\" */\n",
                            "\n",
                            ".sk-estimator-doc-link,\n",
                            "a:link.sk-estimator-doc-link,\n",
                            "a:visited.sk-estimator-doc-link {\n",
                            "  float: right;\n",
                            "  font-size: smaller;\n",
                            "  line-height: 1em;\n",
                            "  font-family: monospace;\n",
                            "  background-color: var(--sklearn-color-background);\n",
                            "  border-radius: 1em;\n",
                            "  height: 1em;\n",
                            "  width: 1em;\n",
                            "  text-decoration: none !important;\n",
                            "  margin-left: 1ex;\n",
                            "  /* unfitted */\n",
                            "  border: var(--sklearn-color-unfitted-level-1) 1pt solid;\n",
                            "  color: var(--sklearn-color-unfitted-level-1);\n",
                            "}\n",
                            "\n",
                            ".sk-estimator-doc-link.fitted,\n",
                            "a:link.sk-estimator-doc-link.fitted,\n",
                            "a:visited.sk-estimator-doc-link.fitted {\n",
                            "  /* fitted */\n",
                            "  border: var(--sklearn-color-fitted-level-1) 1pt solid;\n",
                            "  color: var(--sklearn-color-fitted-level-1);\n",
                            "}\n",
                            "\n",
                            "/* On hover */\n",
                            "div.sk-estimator:hover .sk-estimator-doc-link:hover,\n",
                            ".sk-estimator-doc-link:hover,\n",
                            "div.sk-label-container:hover .sk-estimator-doc-link:hover,\n",
                            ".sk-estimator-doc-link:hover {\n",
                            "  /* unfitted */\n",
                            "  background-color: var(--sklearn-color-unfitted-level-3);\n",
                            "  color: var(--sklearn-color-background);\n",
                            "  text-decoration: none;\n",
                            "}\n",
                            "\n",
                            "div.sk-estimator.fitted:hover .sk-estimator-doc-link.fitted:hover,\n",
                            ".sk-estimator-doc-link.fitted:hover,\n",
                            "div.sk-label-container:hover .sk-estimator-doc-link.fitted:hover,\n",
                            ".sk-estimator-doc-link.fitted:hover {\n",
                            "  /* fitted */\n",
                            "  background-color: var(--sklearn-color-fitted-level-3);\n",
                            "  color: var(--sklearn-color-background);\n",
                            "  text-decoration: none;\n",
                            "}\n",
                            "\n",
                            "/* Span, style for the box shown on hovering the info icon */\n",
                            ".sk-estimator-doc-link span {\n",
                            "  display: none;\n",
                            "  z-index: 9999;\n",
                            "  position: relative;\n",
                            "  font-weight: normal;\n",
                            "  right: .2ex;\n",
                            "  padding: .5ex;\n",
                            "  margin: .5ex;\n",
                            "  width: min-content;\n",
                            "  min-width: 20ex;\n",
                            "  max-width: 50ex;\n",
                            "  color: var(--sklearn-color-text);\n",
                            "  box-shadow: 2pt 2pt 4pt #999;\n",
                            "  /* unfitted */\n",
                            "  background: var(--sklearn-color-unfitted-level-0);\n",
                            "  border: .5pt solid var(--sklearn-color-unfitted-level-3);\n",
                            "}\n",
                            "\n",
                            ".sk-estimator-doc-link.fitted span {\n",
                            "  /* fitted */\n",
                            "  background: var(--sklearn-color-fitted-level-0);\n",
                            "  border: var(--sklearn-color-fitted-level-3);\n",
                            "}\n",
                            "\n",
                            ".sk-estimator-doc-link:hover span {\n",
                            "  display: block;\n",
                            "}\n",
                            "\n",
                            "/* \"?\"-specific style due to the `<a>` HTML tag */\n",
                            "\n",
                            "#sk-container-id-4 a.estimator_doc_link {\n",
                            "  float: right;\n",
                            "  font-size: 1rem;\n",
                            "  line-height: 1em;\n",
                            "  font-family: monospace;\n",
                            "  background-color: var(--sklearn-color-background);\n",
                            "  border-radius: 1rem;\n",
                            "  height: 1rem;\n",
                            "  width: 1rem;\n",
                            "  text-decoration: none;\n",
                            "  /* unfitted */\n",
                            "  color: var(--sklearn-color-unfitted-level-1);\n",
                            "  border: var(--sklearn-color-unfitted-level-1) 1pt solid;\n",
                            "}\n",
                            "\n",
                            "#sk-container-id-4 a.estimator_doc_link.fitted {\n",
                            "  /* fitted */\n",
                            "  border: var(--sklearn-color-fitted-level-1) 1pt solid;\n",
                            "  color: var(--sklearn-color-fitted-level-1);\n",
                            "}\n",
                            "\n",
                            "/* On hover */\n",
                            "#sk-container-id-4 a.estimator_doc_link:hover {\n",
                            "  /* unfitted */\n",
                            "  background-color: var(--sklearn-color-unfitted-level-3);\n",
                            "  color: var(--sklearn-color-background);\n",
                            "  text-decoration: none;\n",
                            "}\n",
                            "\n",
                            "#sk-container-id-4 a.estimator_doc_link.fitted:hover {\n",
                            "  /* fitted */\n",
                            "  background-color: var(--sklearn-color-fitted-level-3);\n",
                            "}\n",
                            "</style><div id=\"sk-container-id-4\" class=\"sk-top-container\"><div class=\"sk-text-repr-fallback\"><pre>DecisionTreeClassifier(max_depth=3, random_state=42)</pre><b>In a Jupyter environment, please rerun this cell to show the HTML representation or trust the notebook. <br />On GitHub, the HTML representation is unable to render, please try loading this page with nbviewer.org.</b></div><div class=\"sk-container\" hidden><div class=\"sk-item\"><div class=\"sk-estimator fitted sk-toggleable\"><input class=\"sk-toggleable__control sk-hidden--visually\" id=\"sk-estimator-id-4\" type=\"checkbox\" checked><label for=\"sk-estimator-id-4\" class=\"sk-toggleable__label fitted sk-toggleable__label-arrow fitted\">&nbsp;&nbsp;DecisionTreeClassifier<a class=\"sk-estimator-doc-link fitted\" rel=\"noreferrer\" target=\"_blank\" href=\"https://scikit-learn.org/1.5/modules/generated/sklearn.tree.DecisionTreeClassifier.html\">?<span>Documentation for DecisionTreeClassifier</span></a><span class=\"sk-estimator-doc-link fitted\">i<span>Fitted</span></span></label><div class=\"sk-toggleable__content fitted\"><pre>DecisionTreeClassifier(max_depth=3, random_state=42)</pre></div> </div></div></div></div>"
                        ],
                        "text/plain": [
                            "DecisionTreeClassifier(max_depth=3, random_state=42)"
                        ]
                    },
                    "execution_count": 93,
                    "metadata": {},
                    "output_type": "execute_result"
                }
            ],
            "source": [
                "model.fit(X_train, y_train)"
            ]
        },
        {
            "cell_type": "markdown",
            "metadata": {},
            "source": [
                "<!-- - [x] Generate predictions using the test set: -->\n"
            ]
        },
        {
            "cell_type": "code",
            "execution_count": 94,
            "metadata": {},
            "outputs": [],
            "source": [
                "y_pred = model.predict(X_test)"
            ]
        },
        {
            "cell_type": "markdown",
            "metadata": {},
            "source": [
                "<!-- - [x] Use the predictions to compute evaluation metrics\n",
                "  - Logging evaluations in conjunction with development hyperparameters is a key part of experiment tracking. -->\n"
            ]
        },
        {
            "cell_type": "code",
            "execution_count": 95,
            "metadata": {},
            "outputs": [
                {
                    "name": "stdout",
                    "output_type": "stream",
                    "text": [
                        "Accuracy: 1.0000, Precision: 1.0000, Recall: 1.0000, F1 Score: 1.0000\n"
                    ]
                }
            ],
            "source": [
                "accuracy = accuracy_score(y_test, y_pred)\n",
                "precision = precision_score(y_test, y_pred, average=\"macro\")\n",
                "recall = recall_score(y_test, y_pred, average=\"macro\")\n",
                "f1 = f1_score(y_test, y_pred, average=\"macro\")\n",
                "\n",
                "print(\n",
                "    f\"Accuracy: {accuracy:.4f}, Precision: {precision:.4f}, Recall: {recall:.4f}, F1 Score: {f1:.4f}\"\n",
                ")"
            ]
        },
        {
            "cell_type": "markdown",
            "metadata": {},
            "source": [
                "<!-- - [x] Log the scores to Weights and Biases with `wandb.log` -->\n"
            ]
        },
        {
            "cell_type": "code",
            "execution_count": 96,
            "metadata": {},
            "outputs": [],
            "source": [
                "wandb.log(\n",
                "    {\n",
                "        \"accuracy\": accuracy,\n",
                "        \"precision\": precision,\n",
                "        \"recall\": recall,\n",
                "        \"f1_score\": f1,\n",
                "    }\n",
                ")"
            ]
        },
        {
            "cell_type": "markdown",
            "metadata": {},
            "source": [
                "<!-- ## Visualizations -->\n"
            ]
        },
        {
            "cell_type": "markdown",
            "metadata": {},
            "source": [
                "<!-- In addition to hyperparameters and evaluation metrics, Weights and Biases is a good place to store visualizations and other outputs from your notebooks. Let's explore: -->\n"
            ]
        },
        {
            "cell_type": "markdown",
            "metadata": {},
            "source": [
                "<!-- ### Feature Importances -->\n"
            ]
        },
        {
            "cell_type": "markdown",
            "metadata": {},
            "source": [
                "<!-- One of the benefits of using a Decision Tree model is that it makes it easy to assess which features contributed most to the decision splits, thereby allowing us to figure out which features are most _important_ when it comes to solving the task.\n",
                "\n",
                "- [x] Use the model's built-in `feature_importances_` property to extract the most important features: -->\n"
            ]
        },
        {
            "cell_type": "code",
            "execution_count": 97,
            "metadata": {},
            "outputs": [],
            "source": [
                "# Get feature importances\n",
                "importances = model.feature_importances_"
            ]
        },
        {
            "cell_type": "markdown",
            "metadata": {},
            "source": [
                "<!-- Although the model knows the importance, it cannot tell us the human-readable feature name. We will need to get those from the dataset.\n",
                "\n",
                "- [x] Get the `feature_names` from the `iris` dataset instance. -->\n"
            ]
        },
        {
            "cell_type": "code",
            "execution_count": 98,
            "metadata": {},
            "outputs": [],
            "source": [
                "feature_names = iris.feature_names"
            ]
        },
        {
            "cell_type": "markdown",
            "metadata": {},
            "source": [
                "<!-- - [x] Visualize the important features: -->\n"
            ]
        },
        {
            "cell_type": "code",
            "execution_count": 99,
            "metadata": {},
            "outputs": [
                {
                    "data": {
                        "image/png": "[encoded data removed]",
                        "text/plain": [
                            "<Figure size 1000x600 with 1 Axes>"
                        ]
                    },
                    "metadata": {},
                    "output_type": "display_data"
                }
            ],
            "source": [
                "plt.figure(figsize=(10, 6))\n",
                "plt.barh(feature_names, importances, color=\"skyblue\")\n",
                "plt.xlabel(\"Feature Importance\")\n",
                "plt.title(\"Feature Importances in Decision Tree\")\n",
                "plt.show()"
            ]
        },
        {
            "cell_type": "markdown",
            "metadata": {},
            "source": [
                "<!-- - [x] Log the visualization to the Weights and Biases run:\n",
                "  - Note that `wandb.log()` accepts a dictionary with any properties you want to provide so name the property whatever you'd like.\n",
                "  - For the value, use the utility function `wandb.Image()` and pass it the plot object. -->\n"
            ]
        },
        {
            "cell_type": "code",
            "execution_count": 100,
            "metadata": {},
            "outputs": [
                {
                    "data": {
                        "text/plain": [
                            "<Figure size 640x480 with 0 Axes>"
                        ]
                    },
                    "metadata": {},
                    "output_type": "display_data"
                }
            ],
            "source": [
                "# wandb.log({\"feature_importance\":wandb.Image(plt)})\n",
                "\n",
                "plt.savefig('feature_importance.png')\n",
                "wandb.log({\"feature_importance\": wandb.Image(plt)})"
            ]
        },
        {
            "cell_type": "markdown",
            "metadata": {},
            "source": [
                "<!-- <details>\n",
                "<summary>Solution:</summary>\n",
                "\n",
                "```python\n",
                "wandb.log({\"feature_importance\": wandb.Image(plt)})\n",
                "```\n",
                "\n",
                "</details> -->\n"
            ]
        },
        {
            "cell_type": "markdown",
            "metadata": {},
            "source": [
                "<!-- ### Confusion Matrix -->\n"
            ]
        },
        {
            "cell_type": "markdown",
            "metadata": {},
            "source": [
                "<!-- As with the feature importance image, we can log the confusion matrix of the classification predictions as well: -->\n"
            ]
        },
        {
            "cell_type": "markdown",
            "metadata": {},
            "source": [
                "<!-- - [x] Generate and log a confusion matrix: -->\n"
            ]
        },
        {
            "cell_type": "code",
            "execution_count": 101,
            "metadata": {},
            "outputs": [
                {
                    "data": {
                        "image/png": "[encoded data removed]",
                        "text/plain": [
                            "<Figure size 480x480 with 2 Axes>"
                        ]
                    },
                    "metadata": {},
                    "output_type": "display_data"
                },
                {
                    "data": {
                        "text/plain": [
                            "<Figure size 640x480 with 0 Axes>"
                        ]
                    },
                    "metadata": {},
                    "output_type": "display_data"
                }
            ],
            "source": [
                "# Create a confusion matrix using the predictions and labels\n",
                "\n",
                "from sklearn.metrics import (\n",
                "    mean_absolute_error,\n",
                "    mean_squared_error,\n",
                "    accuracy_score,\n",
                "    precision_score,\n",
                "    recall_score,\n",
                "    f1_score,\n",
                "    confusion_matrix,\n",
                ")\n",
                "\n",
                "conf_matrix = confusion_matrix(y_test, y_pred)\n",
                "\n",
                "plt.matshow(conf_matrix, cmap=plt.cm.Blues)\n",
                "plt.colorbar()\n",
                "\n",
                "for i in range(conf_matrix.shape[0]):\n",
                "    for j in range(conf_matrix.shape[1]):\n",
                "        plt.text(x=j, y=i, s=conf_matrix[i, j], va=\"center\", ha=\"center\")\n",
                "\n",
                "plt.xlabel(\"Predicted label\")\n",
                "plt.ylabel(\"True label\")\n",
                "plt.show()\n",
                "\n",
                "# Log the confusion matrix as an image\n",
                "\n",
                "wandb.log({\"confusion_matrix\":wandb.Image(plt)})\n"
            ]
        },
        {
            "cell_type": "markdown",
            "metadata": {},
            "source": [
                "<!-- ## Explore the W&B Dashboard -->\n"
            ]
        },
        {
            "cell_type": "markdown",
            "metadata": {},
            "source": [
                "<!-- - [x] Use the W&B dashboard to explore and analyze your results: -->\n"
            ]
        },
        {
            "cell_type": "markdown",
            "metadata": {},
            "source": [
                "<!-- ### Instructions -->\n"
            ]
        },
        {
            "cell_type": "markdown",
            "metadata": {},
            "source": [
                "<!-- 1. **Navigate to the W&B Dashboard**:\n",
                "\n",
                "   - After running your code, click the link provided in the notebook's output to view your experiment on the W&B dashboard.\n",
                "\n",
                "2. **Examine Your Run**:\n",
                "\n",
                "   - Look at the metrics logged during the run. Note how they change over epochs or different runs.\n",
                "\n",
                "3. **Compare Runs**:\n",
                "\n",
                "   - If you have multiple runs, use the \"Compare Runs\" feature to analyze differences in metrics and configurations.\n",
                "\n",
                "4. **Create Custom Panels**:\n",
                "   - Try creating custom panels to visualize specific metrics over time. This helps in identifying trends and insights. -->\n"
            ]
        },
        {
            "cell_type": "markdown",
            "metadata": {},
            "source": [
                "<!-- ## Finalize W&B Run -->\n"
            ]
        },
        {
            "cell_type": "markdown",
            "metadata": {},
            "source": [
                "<!-- - [ ] End the W&B run with `wandb.finish` to ensure all data is logged and the session is closed properly: -->\n"
            ]
        },
        {
            "cell_type": "code",
            "execution_count": 102,
            "metadata": {},
            "outputs": [
                {
                    "data": {
                        "text/html": [
                            "<style>\n",
                            "    table.wandb td:nth-child(1) { padding: 0 10px; text-align: left ; width: auto;} td:nth-child(2) {text-align: left ; width: 100%}\n",
                            "    .wandb-row { display: flex; flex-direction: row; flex-wrap: wrap; justify-content: flex-start; width: 100% }\n",
                            "    .wandb-col { display: flex; flex-direction: column; flex-basis: 100%; flex: 1; padding: 10px; }\n",
                            "    </style>\n",
                            "<div class=\"wandb-row\"><div class=\"wandb-col\"><h3>Run history:</h3><br/><table class=\"wandb\"><tr><td>accuracy</td><td>▁</td></tr><tr><td>f1_score</td><td>▁</td></tr><tr><td>precision</td><td>▁</td></tr><tr><td>recall</td><td>▁</td></tr></table><br/></div><div class=\"wandb-col\"><h3>Run summary:</h3><br/><table class=\"wandb\"><tr><td>accuracy</td><td>1.0</td></tr><tr><td>f1_score</td><td>1.0</td></tr><tr><td>precision</td><td>1.0</td></tr><tr><td>recall</td><td>1.0</td></tr></table><br/></div></div>"
                        ],
                        "text/plain": [
                            "<IPython.core.display.HTML object>"
                        ]
                    },
                    "metadata": {},
                    "output_type": "display_data"
                },
                {
                    "data": {
                        "text/html": [
                            " View run <strong style=\"color:#cdcd00\">decision-tree-iris_2</strong> at: <a href='https://wandb.ai/grysu_kuza-gk-inc/experiment-tracking-example/runs/bnoacgl8' target=\"_blank\">https://wandb.ai/grysu_kuza-gk-inc/experiment-tracking-example/runs/bnoacgl8</a><br/> View project at: <a href='https://wandb.ai/grysu_kuza-gk-inc/experiment-tracking-example' target=\"_blank\">https://wandb.ai/grysu_kuza-gk-inc/experiment-tracking-example</a><br/>Synced 5 W&B file(s), 2 media file(s), 0 artifact file(s) and 0 other file(s)"
                        ],
                        "text/plain": [
                            "<IPython.core.display.HTML object>"
                        ]
                    },
                    "metadata": {},
                    "output_type": "display_data"
                },
                {
                    "data": {
                        "text/html": [
                            "Find logs at: <code>./wandb/run-20240909_195536-bnoacgl8/logs</code>"
                        ],
                        "text/plain": [
                            "<IPython.core.display.HTML object>"
                        ]
                    },
                    "metadata": {},
                    "output_type": "display_data"
                },
                {
                    "data": {
                        "text/html": [
                            "The new W&B backend becomes opt-out in version 0.18.0; try it out with `wandb.require(\"core\")`! See https://wandb.me/wandb-core for more information."
                        ],
                        "text/plain": [
                            "<IPython.core.display.HTML object>"
                        ]
                    },
                    "metadata": {},
                    "output_type": "display_data"
                }
            ],
            "source": [
                "# Finish the run\n",
                "wandb.finish()"
            ]
        },
        {
            "cell_type": "markdown",
            "metadata": {},
            "source": [
                "<!-- <details>\n",
                "<summary>Solution:</summary>\n",
                "\n",
                "```python\n",
                "wandb.finish()\n",
                "```\n",
                "\n",
                "</details> -->\n"
            ]
        },
        {
            "cell_type": "markdown",
            "metadata": {},
            "source": [
                "<!-- ## Hyperparameter Sweeps -->\n"
            ]
        },
        {
            "cell_type": "markdown",
            "metadata": {},
            "source": [
                "<!-- Weights and Biases also allows you to perform hyperparameter sweeps to find the optimal model parameters.\n",
                "\n",
                "- [x] Create a hyperparameter sweep:\n",
                "  - In the configuration, set the method to \"grid\" (i.e. set up a grid search)\n",
                "  - Create a grid of hyperparameters to test:\n",
                "    - Try different values of `max_depth` for example -->\n"
            ]
        },
        {
            "cell_type": "code",
            "execution_count": 103,
            "metadata": {},
            "outputs": [
                {
                    "name": "stdout",
                    "output_type": "stream",
                    "text": [
                        "Create sweep with ID: tbfeo4ku\n",
                        "Sweep URL: https://wandb.ai/grysu_kuza-gk-inc/experiment-tracking-example/sweeps/tbfeo4ku\n"
                    ]
                }
            ],
            "source": [
                "sweep_id = wandb.sweep(\n",
                "    {\n",
                "        \"method\": \"grid\",\n",
                "        \"parameters\": {\n",
                "            \"max_depth\": {\"values\": [3, 5, 7]},\n",
                "        },\n",
                "    },\n",
                "    project=\"experiment-tracking-example\",\n",
                ")"
            ]
        },
        {
            "cell_type": "markdown",
            "metadata": {},
            "source": [
                "<!-- <details>\n",
                "<summary>Solution:</summary>\n",
                "\n",
                "```python\n",
                "sweep_id = wandb.sweep(\n",
                "    {\n",
                "        \"method\": \"grid\",\n",
                "        \"parameters\": {\n",
                "            \"max_depth\": {\"values\": [3, 5, 7]},\n",
                "        },\n",
                "    },\n",
                "    project=\"experiment-tracking-example\",\n",
                ")\n",
                "```\n",
                "\n",
                "</details> -->\n"
            ]
        },
        {
            "cell_type": "markdown",
            "metadata": {},
            "source": [
                "<!-- - [x] Define the training loop, using variables stored by the `wandb.config`:\n",
                "  - Note the use of Python's [`with...as` syntax](<(https://docs.python.org/3/reference/compound_stmts.html#the-with-statement)>) — using this automatically initializes and finishes the for the execution of that block.\n",
                "  - Set max_depth to `wandb.config.max_depth`\n",
                "    - Weights and Biases will automatically take care of running the train function multiple times — passing in a different value every time — once we execute the sweep in the next cell.\n",
                "  - Log the resulting accuracy score. -->\n"
            ]
        },
        {
            "cell_type": "code",
            "execution_count": 104,
            "metadata": {},
            "outputs": [],
            "source": [
                "def train():\n",
                "    with wandb.init() as run:\n",
                "        model = DecisionTreeClassifier(\n",
                "            max_depth=wandb.config[\"max_depth\"],\n",
                "            random_state=42,\n",
                "        )\n",
                "\n",
                "        # Train, predict, and evaluate\n",
                "        model.fit(X_train, y_train)\n",
                "        y_pred = model.predict(X_test)\n",
                "        accuracy = accuracy_score(y_test, y_pred)\n",
                "\n",
                "        wandb.log({\"accuracy\": accuracy})"
            ]
        },
        {
            "cell_type": "markdown",
            "metadata": {},
            "source": [
                "<!-- <details>\n",
                "<summary>Solution:</summary>\n",
                "\n",
                "```python\n",
                "def train():\n",
                "    with wandb.init() as run:\n",
                "        model = DecisionTreeClassifier(\n",
                "            max_depth=wandb.config.max_depth,\n",
                "            random_state=42,\n",
                "        )\n",
                "\n",
                "        # Train, predict, and evaluate\n",
                "        model.fit(X_train, y_train)\n",
                "        y_pred = model.predict(X_test)\n",
                "        accuracy = accuracy_score(y_test, y_pred)\n",
                "\n",
                "        wandb.log({\"accuracy\": accuracy})\n",
                "```\n",
                "\n",
                "</details> -->\n"
            ]
        },
        {
            "cell_type": "markdown",
            "metadata": {},
            "source": [
                "<!-- - [x] Finally, run the sweep: -->\n"
            ]
        },
        {
            "cell_type": "code",
            "execution_count": 105,
            "metadata": {},
            "outputs": [
                {
                    "name": "stderr",
                    "output_type": "stream",
                    "text": [
                        "\u001b[34m\u001b[1mwandb\u001b[0m: Agent Starting Run: k4v2ry0g with config:\n",
                        "\u001b[34m\u001b[1mwandb\u001b[0m: \tmax_depth: 3\n",
                        "Failed to detect the name of this notebook, you can set it manually with the WANDB_NOTEBOOK_NAME environment variable to enable code saving.\n"
                    ]
                },
                {
                    "data": {
                        "text/html": [
                            "Tracking run with wandb version 0.17.9"
                        ],
                        "text/plain": [
                            "<IPython.core.display.HTML object>"
                        ]
                    },
                    "metadata": {},
                    "output_type": "display_data"
                },
                {
                    "data": {
                        "text/html": [
                            "Run data is saved locally in <code>/Users/python/Documents/python/deep_atlas_course/mli-2024-09-09-coursework-main/model_dev.model_evaluation/wandb/run-20240909_195614-k4v2ry0g</code>"
                        ],
                        "text/plain": [
                            "<IPython.core.display.HTML object>"
                        ]
                    },
                    "metadata": {},
                    "output_type": "display_data"
                },
                {
                    "data": {
                        "text/html": [
                            "Syncing run <strong><a href='https://wandb.ai/grysu_kuza-gk-inc/experiment-tracking-example/runs/k4v2ry0g' target=\"_blank\">lively-sweep-1</a></strong> to <a href='https://wandb.ai/grysu_kuza-gk-inc/experiment-tracking-example' target=\"_blank\">Weights & Biases</a> (<a href='https://wandb.me/run' target=\"_blank\">docs</a>)<br/>Sweep page: <a href='https://wandb.ai/grysu_kuza-gk-inc/experiment-tracking-example/sweeps/tbfeo4ku' target=\"_blank\">https://wandb.ai/grysu_kuza-gk-inc/experiment-tracking-example/sweeps/tbfeo4ku</a>"
                        ],
                        "text/plain": [
                            "<IPython.core.display.HTML object>"
                        ]
                    },
                    "metadata": {},
                    "output_type": "display_data"
                },
                {
                    "data": {
                        "text/html": [
                            " View project at <a href='https://wandb.ai/grysu_kuza-gk-inc/experiment-tracking-example' target=\"_blank\">https://wandb.ai/grysu_kuza-gk-inc/experiment-tracking-example</a>"
                        ],
                        "text/plain": [
                            "<IPython.core.display.HTML object>"
                        ]
                    },
                    "metadata": {},
                    "output_type": "display_data"
                },
                {
                    "data": {
                        "text/html": [
                            " View sweep at <a href='https://wandb.ai/grysu_kuza-gk-inc/experiment-tracking-example/sweeps/tbfeo4ku' target=\"_blank\">https://wandb.ai/grysu_kuza-gk-inc/experiment-tracking-example/sweeps/tbfeo4ku</a>"
                        ],
                        "text/plain": [
                            "<IPython.core.display.HTML object>"
                        ]
                    },
                    "metadata": {},
                    "output_type": "display_data"
                },
                {
                    "data": {
                        "text/html": [
                            " View run at <a href='https://wandb.ai/grysu_kuza-gk-inc/experiment-tracking-example/runs/k4v2ry0g' target=\"_blank\">https://wandb.ai/grysu_kuza-gk-inc/experiment-tracking-example/runs/k4v2ry0g</a>"
                        ],
                        "text/plain": [
                            "<IPython.core.display.HTML object>"
                        ]
                    },
                    "metadata": {},
                    "output_type": "display_data"
                },
                {
                    "data": {
                        "text/html": [
                            "<style>\n",
                            "    table.wandb td:nth-child(1) { padding: 0 10px; text-align: left ; width: auto;} td:nth-child(2) {text-align: left ; width: 100%}\n",
                            "    .wandb-row { display: flex; flex-direction: row; flex-wrap: wrap; justify-content: flex-start; width: 100% }\n",
                            "    .wandb-col { display: flex; flex-direction: column; flex-basis: 100%; flex: 1; padding: 10px; }\n",
                            "    </style>\n",
                            "<div class=\"wandb-row\"><div class=\"wandb-col\"><h3>Run history:</h3><br/><table class=\"wandb\"><tr><td>accuracy</td><td>▁</td></tr></table><br/></div><div class=\"wandb-col\"><h3>Run summary:</h3><br/><table class=\"wandb\"><tr><td>accuracy</td><td>1.0</td></tr></table><br/></div></div>"
                        ],
                        "text/plain": [
                            "<IPython.core.display.HTML object>"
                        ]
                    },
                    "metadata": {},
                    "output_type": "display_data"
                },
                {
                    "data": {
                        "text/html": [
                            " View run <strong style=\"color:#cdcd00\">lively-sweep-1</strong> at: <a href='https://wandb.ai/grysu_kuza-gk-inc/experiment-tracking-example/runs/k4v2ry0g' target=\"_blank\">https://wandb.ai/grysu_kuza-gk-inc/experiment-tracking-example/runs/k4v2ry0g</a><br/> View project at: <a href='https://wandb.ai/grysu_kuza-gk-inc/experiment-tracking-example' target=\"_blank\">https://wandb.ai/grysu_kuza-gk-inc/experiment-tracking-example</a><br/>Synced 4 W&B file(s), 0 media file(s), 0 artifact file(s) and 0 other file(s)"
                        ],
                        "text/plain": [
                            "<IPython.core.display.HTML object>"
                        ]
                    },
                    "metadata": {},
                    "output_type": "display_data"
                },
                {
                    "data": {
                        "text/html": [
                            "Find logs at: <code>./wandb/run-20240909_195614-k4v2ry0g/logs</code>"
                        ],
                        "text/plain": [
                            "<IPython.core.display.HTML object>"
                        ]
                    },
                    "metadata": {},
                    "output_type": "display_data"
                },
                {
                    "data": {
                        "text/html": [
                            "The new W&B backend becomes opt-out in version 0.18.0; try it out with `wandb.require(\"core\")`! See https://wandb.me/wandb-core for more information."
                        ],
                        "text/plain": [
                            "<IPython.core.display.HTML object>"
                        ]
                    },
                    "metadata": {},
                    "output_type": "display_data"
                },
                {
                    "name": "stderr",
                    "output_type": "stream",
                    "text": [
                        "\u001b[34m\u001b[1mwandb\u001b[0m: Agent Starting Run: v1ws083k with config:\n",
                        "\u001b[34m\u001b[1mwandb\u001b[0m: \tmax_depth: 5\n",
                        "Failed to detect the name of this notebook, you can set it manually with the WANDB_NOTEBOOK_NAME environment variable to enable code saving.\n"
                    ]
                },
                {
                    "data": {
                        "text/html": [
                            "Tracking run with wandb version 0.17.9"
                        ],
                        "text/plain": [
                            "<IPython.core.display.HTML object>"
                        ]
                    },
                    "metadata": {},
                    "output_type": "display_data"
                },
                {
                    "data": {
                        "text/html": [
                            "Run data is saved locally in <code>/Users/python/Documents/python/deep_atlas_course/mli-2024-09-09-coursework-main/model_dev.model_evaluation/wandb/run-20240909_195633-v1ws083k</code>"
                        ],
                        "text/plain": [
                            "<IPython.core.display.HTML object>"
                        ]
                    },
                    "metadata": {},
                    "output_type": "display_data"
                },
                {
                    "data": {
                        "text/html": [
                            "Syncing run <strong><a href='https://wandb.ai/grysu_kuza-gk-inc/experiment-tracking-example/runs/v1ws083k' target=\"_blank\">denim-sweep-2</a></strong> to <a href='https://wandb.ai/grysu_kuza-gk-inc/experiment-tracking-example' target=\"_blank\">Weights & Biases</a> (<a href='https://wandb.me/run' target=\"_blank\">docs</a>)<br/>Sweep page: <a href='https://wandb.ai/grysu_kuza-gk-inc/experiment-tracking-example/sweeps/tbfeo4ku' target=\"_blank\">https://wandb.ai/grysu_kuza-gk-inc/experiment-tracking-example/sweeps/tbfeo4ku</a>"
                        ],
                        "text/plain": [
                            "<IPython.core.display.HTML object>"
                        ]
                    },
                    "metadata": {},
                    "output_type": "display_data"
                },
                {
                    "data": {
                        "text/html": [
                            " View project at <a href='https://wandb.ai/grysu_kuza-gk-inc/experiment-tracking-example' target=\"_blank\">https://wandb.ai/grysu_kuza-gk-inc/experiment-tracking-example</a>"
                        ],
                        "text/plain": [
                            "<IPython.core.display.HTML object>"
                        ]
                    },
                    "metadata": {},
                    "output_type": "display_data"
                },
                {
                    "data": {
                        "text/html": [
                            " View sweep at <a href='https://wandb.ai/grysu_kuza-gk-inc/experiment-tracking-example/sweeps/tbfeo4ku' target=\"_blank\">https://wandb.ai/grysu_kuza-gk-inc/experiment-tracking-example/sweeps/tbfeo4ku</a>"
                        ],
                        "text/plain": [
                            "<IPython.core.display.HTML object>"
                        ]
                    },
                    "metadata": {},
                    "output_type": "display_data"
                },
                {
                    "data": {
                        "text/html": [
                            " View run at <a href='https://wandb.ai/grysu_kuza-gk-inc/experiment-tracking-example/runs/v1ws083k' target=\"_blank\">https://wandb.ai/grysu_kuza-gk-inc/experiment-tracking-example/runs/v1ws083k</a>"
                        ],
                        "text/plain": [
                            "<IPython.core.display.HTML object>"
                        ]
                    },
                    "metadata": {},
                    "output_type": "display_data"
                },
                {
                    "data": {
                        "text/html": [
                            "<style>\n",
                            "    table.wandb td:nth-child(1) { padding: 0 10px; text-align: left ; width: auto;} td:nth-child(2) {text-align: left ; width: 100%}\n",
                            "    .wandb-row { display: flex; flex-direction: row; flex-wrap: wrap; justify-content: flex-start; width: 100% }\n",
                            "    .wandb-col { display: flex; flex-direction: column; flex-basis: 100%; flex: 1; padding: 10px; }\n",
                            "    </style>\n",
                            "<div class=\"wandb-row\"><div class=\"wandb-col\"><h3>Run history:</h3><br/><table class=\"wandb\"><tr><td>accuracy</td><td>▁</td></tr></table><br/></div><div class=\"wandb-col\"><h3>Run summary:</h3><br/><table class=\"wandb\"><tr><td>accuracy</td><td>1.0</td></tr></table><br/></div></div>"
                        ],
                        "text/plain": [
                            "<IPython.core.display.HTML object>"
                        ]
                    },
                    "metadata": {},
                    "output_type": "display_data"
                },
                {
                    "data": {
                        "text/html": [
                            " View run <strong style=\"color:#cdcd00\">denim-sweep-2</strong> at: <a href='https://wandb.ai/grysu_kuza-gk-inc/experiment-tracking-example/runs/v1ws083k' target=\"_blank\">https://wandb.ai/grysu_kuza-gk-inc/experiment-tracking-example/runs/v1ws083k</a><br/> View project at: <a href='https://wandb.ai/grysu_kuza-gk-inc/experiment-tracking-example' target=\"_blank\">https://wandb.ai/grysu_kuza-gk-inc/experiment-tracking-example</a><br/>Synced 4 W&B file(s), 0 media file(s), 0 artifact file(s) and 0 other file(s)"
                        ],
                        "text/plain": [
                            "<IPython.core.display.HTML object>"
                        ]
                    },
                    "metadata": {},
                    "output_type": "display_data"
                },
                {
                    "data": {
                        "text/html": [
                            "Find logs at: <code>./wandb/run-20240909_195633-v1ws083k/logs</code>"
                        ],
                        "text/plain": [
                            "<IPython.core.display.HTML object>"
                        ]
                    },
                    "metadata": {},
                    "output_type": "display_data"
                },
                {
                    "data": {
                        "text/html": [
                            "The new W&B backend becomes opt-out in version 0.18.0; try it out with `wandb.require(\"core\")`! See https://wandb.me/wandb-core for more information."
                        ],
                        "text/plain": [
                            "<IPython.core.display.HTML object>"
                        ]
                    },
                    "metadata": {},
                    "output_type": "display_data"
                },
                {
                    "name": "stderr",
                    "output_type": "stream",
                    "text": [
                        "\u001b[34m\u001b[1mwandb\u001b[0m: Agent Starting Run: bvlz4ump with config:\n",
                        "\u001b[34m\u001b[1mwandb\u001b[0m: \tmax_depth: 7\n",
                        "Failed to detect the name of this notebook, you can set it manually with the WANDB_NOTEBOOK_NAME environment variable to enable code saving.\n"
                    ]
                },
                {
                    "data": {
                        "text/html": [
                            "Tracking run with wandb version 0.17.9"
                        ],
                        "text/plain": [
                            "<IPython.core.display.HTML object>"
                        ]
                    },
                    "metadata": {},
                    "output_type": "display_data"
                },
                {
                    "data": {
                        "text/html": [
                            "Run data is saved locally in <code>/Users/python/Documents/python/deep_atlas_course/mli-2024-09-09-coursework-main/model_dev.model_evaluation/wandb/run-20240909_195652-bvlz4ump</code>"
                        ],
                        "text/plain": [
                            "<IPython.core.display.HTML object>"
                        ]
                    },
                    "metadata": {},
                    "output_type": "display_data"
                },
                {
                    "data": {
                        "text/html": [
                            "Syncing run <strong><a href='https://wandb.ai/grysu_kuza-gk-inc/experiment-tracking-example/runs/bvlz4ump' target=\"_blank\">misty-sweep-3</a></strong> to <a href='https://wandb.ai/grysu_kuza-gk-inc/experiment-tracking-example' target=\"_blank\">Weights & Biases</a> (<a href='https://wandb.me/run' target=\"_blank\">docs</a>)<br/>Sweep page: <a href='https://wandb.ai/grysu_kuza-gk-inc/experiment-tracking-example/sweeps/tbfeo4ku' target=\"_blank\">https://wandb.ai/grysu_kuza-gk-inc/experiment-tracking-example/sweeps/tbfeo4ku</a>"
                        ],
                        "text/plain": [
                            "<IPython.core.display.HTML object>"
                        ]
                    },
                    "metadata": {},
                    "output_type": "display_data"
                },
                {
                    "data": {
                        "text/html": [
                            " View project at <a href='https://wandb.ai/grysu_kuza-gk-inc/experiment-tracking-example' target=\"_blank\">https://wandb.ai/grysu_kuza-gk-inc/experiment-tracking-example</a>"
                        ],
                        "text/plain": [
                            "<IPython.core.display.HTML object>"
                        ]
                    },
                    "metadata": {},
                    "output_type": "display_data"
                },
                {
                    "data": {
                        "text/html": [
                            " View sweep at <a href='https://wandb.ai/grysu_kuza-gk-inc/experiment-tracking-example/sweeps/tbfeo4ku' target=\"_blank\">https://wandb.ai/grysu_kuza-gk-inc/experiment-tracking-example/sweeps/tbfeo4ku</a>"
                        ],
                        "text/plain": [
                            "<IPython.core.display.HTML object>"
                        ]
                    },
                    "metadata": {},
                    "output_type": "display_data"
                },
                {
                    "data": {
                        "text/html": [
                            " View run at <a href='https://wandb.ai/grysu_kuza-gk-inc/experiment-tracking-example/runs/bvlz4ump' target=\"_blank\">https://wandb.ai/grysu_kuza-gk-inc/experiment-tracking-example/runs/bvlz4ump</a>"
                        ],
                        "text/plain": [
                            "<IPython.core.display.HTML object>"
                        ]
                    },
                    "metadata": {},
                    "output_type": "display_data"
                },
                {
                    "data": {
                        "text/html": [
                            "<style>\n",
                            "    table.wandb td:nth-child(1) { padding: 0 10px; text-align: left ; width: auto;} td:nth-child(2) {text-align: left ; width: 100%}\n",
                            "    .wandb-row { display: flex; flex-direction: row; flex-wrap: wrap; justify-content: flex-start; width: 100% }\n",
                            "    .wandb-col { display: flex; flex-direction: column; flex-basis: 100%; flex: 1; padding: 10px; }\n",
                            "    </style>\n",
                            "<div class=\"wandb-row\"><div class=\"wandb-col\"><h3>Run history:</h3><br/><table class=\"wandb\"><tr><td>accuracy</td><td>▁</td></tr></table><br/></div><div class=\"wandb-col\"><h3>Run summary:</h3><br/><table class=\"wandb\"><tr><td>accuracy</td><td>1.0</td></tr></table><br/></div></div>"
                        ],
                        "text/plain": [
                            "<IPython.core.display.HTML object>"
                        ]
                    },
                    "metadata": {},
                    "output_type": "display_data"
                },
                {
                    "data": {
                        "text/html": [
                            " View run <strong style=\"color:#cdcd00\">misty-sweep-3</strong> at: <a href='https://wandb.ai/grysu_kuza-gk-inc/experiment-tracking-example/runs/bvlz4ump' target=\"_blank\">https://wandb.ai/grysu_kuza-gk-inc/experiment-tracking-example/runs/bvlz4ump</a><br/> View project at: <a href='https://wandb.ai/grysu_kuza-gk-inc/experiment-tracking-example' target=\"_blank\">https://wandb.ai/grysu_kuza-gk-inc/experiment-tracking-example</a><br/>Synced 4 W&B file(s), 0 media file(s), 0 artifact file(s) and 0 other file(s)"
                        ],
                        "text/plain": [
                            "<IPython.core.display.HTML object>"
                        ]
                    },
                    "metadata": {},
                    "output_type": "display_data"
                },
                {
                    "data": {
                        "text/html": [
                            "Find logs at: <code>./wandb/run-20240909_195652-bvlz4ump/logs</code>"
                        ],
                        "text/plain": [
                            "<IPython.core.display.HTML object>"
                        ]
                    },
                    "metadata": {},
                    "output_type": "display_data"
                },
                {
                    "data": {
                        "text/html": [
                            "The new W&B backend becomes opt-out in version 0.18.0; try it out with `wandb.require(\"core\")`! See https://wandb.me/wandb-core for more information."
                        ],
                        "text/plain": [
                            "<IPython.core.display.HTML object>"
                        ]
                    },
                    "metadata": {},
                    "output_type": "display_data"
                }
            ],
            "source": [
                "wandb.agent(sweep_id, train, count=3)"
            ]
        },
        {
            "cell_type": "markdown",
            "metadata": {},
            "source": [
                "<!-- In this setup:\n",
                "\n",
                "- The sweep iterates over combinations of max_depth and min_samples_split.\n",
                "- Each run is logged separately in the W&B dashboard.\n",
                "\n",
                "Final step:\n",
                "\n",
                "- [x] You should analyze the runs to find the configuration that yields the best accuracy. -->\n"
            ]
        },
        {
            "cell_type": "markdown",
            "metadata": {},
            "source": [
                "<!-- ## 🚦 Checkpoint: Stop -->\n"
            ]
        },
        {
            "cell_type": "markdown",
            "metadata": {},
            "source": [
                "<!-- - [x] Uncomment this code\n",
                "- [x] Complete the feedback form\n",
                "- [x] Run the cell to log your responses and record your stop time: -->\n"
            ]
        },
        {
            "cell_type": "code",
            "execution_count": 106,
            "metadata": {},
            "outputs": [],
            "source": [
                "# deep_atlas.log_feedback(\n",
                "#     {\n",
                "#         # How long were you actively focused on this section? (HH:MM)\n",
                "#         \"active_time\": \"00:30\",\n",
                "#         # Did you feel finished with this section (Yes/No):\n",
                "#         \"finished\": \"yes\",\n",
                "#         # How much did you enjoy this section? (1–5)\n",
                "#         \"enjoyment\": 4,\n",
                "#         # How useful was this section? (1–5)\n",
                "#         \"usefulness\": 4,\n",
                "#         # Did you skip any steps?\n",
                "#         \"skipped_steps\": \"no\",\n",
                "#         # Any obvious opportunities for improvement?\n",
                "#         \"suggestions\": [],\n",
                "#     }\n",
                "# )\n",
                "# deep_atlas.log_stop_time()"
            ]
        },
        {
            "cell_type": "markdown",
            "metadata": {},
            "source": [
                "<!-- ## You did it! -->\n"
            ]
        },
        {
            "cell_type": "markdown",
            "metadata": {},
            "source": [
                "<!-- In this exercise, we explored how to integrate Weights & Biases for tracking machine learning experiments using scikit-learn. We logged metrics, visualized results, performed hyperparameter sweeps, and interacted with the W&B dashboard to gain insights. -->\n"
            ]
        },
        {
            "cell_type": "markdown",
            "metadata": {},
            "source": [
                "<!-- ### Extra Credit -->\n"
            ]
        },
        {
            "cell_type": "markdown",
            "metadata": {},
            "source": [
                "<!-- Explore the following advanced W&B features to deepen your understanding and enhance your experiment tracking capabilities:\n",
                "\n",
                "1. **W&B Reports**:\n",
                "\n",
                "   - Create detailed reports using W&B's report feature to summarize your experiments, findings, and conclusions. This is useful for sharing insights with your team.\n",
                "\n",
                "2. **Dataset Versioning**:\n",
                "\n",
                "   - Use W&B Artifacts to version and track datasets used in your experiments. This helps ensure reproducibility and transparency.\n",
                "\n",
                "3. **Collaborative Projects**:\n",
                "\n",
                "   - Explore W&B's collaborative features to share projects with peers and work together on analyses and model improvements.\n",
                "\n",
                "4. **Real-time Alerts**:\n",
                "   - Set up real-time alerts for when certain metrics reach specific thresholds, allowing you to monitor model training progress efficiently. -->\n"
            ]
        },
        {
            "cell_type": "markdown",
            "metadata": {},
            "source": [
                "<!-- ### Resources -->\n"
            ]
        },
        {
            "cell_type": "markdown",
            "metadata": {},
            "source": [
                "<!-- - [W&B Documentation](https://docs.wandb.ai/)\n",
                "- [Scikit-learn Documentation](https://scikit-learn.org/stable/user_guide.html) -->\n"
            ]
        }
    ],
    "metadata": {
        "kernelspec": {
            "display_name": "deep_atlas_course-JW55AXv8",
            "language": "python",
            "name": "python3"
        },
        "language_info": {
            "codemirror_mode": {
                "name": "ipython",
                "version": 3
            },
            "file_extension": ".py",
            "mimetype": "text/x-python",
            "name": "python",
            "nbconvert_exporter": "python",
            "pygments_lexer": "ipython3",
            "version": "3.11.9"
        }
    },
    "nbformat": 4,
    "nbformat_minor": 2
}
