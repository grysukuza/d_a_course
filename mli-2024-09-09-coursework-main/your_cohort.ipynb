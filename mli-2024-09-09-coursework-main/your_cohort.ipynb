{
 "cells": [
  {
   "cell_type": "markdown",
   "metadata": {},
   "source": [
    "# Your Cohort"
   ]
  },
  {
   "cell_type": "markdown",
   "metadata": {},
   "source": [
    "## Cohort-Specific Info"
   ]
  },
  {
   "cell_type": "markdown",
   "metadata": {},
   "source": [
    "- In Google Drive\n",
    "  - [Lecture Slides](https://drive.google.com/drive/folders/1hBb5LMQUVoA7mj5eSsg0WDQj0f28O7g8?usp=sharing)\n",
    "  - [Cohort Collaborative Notes File](https://docs.google.com/document/d/1bDMAD-3fbN60PvvSjUl4clvFtASamD4WIKj3YpV7KvE/edit?usp=drive_link)\n",
    "- [Cohort Calendar](https://calendar.google.com/calendar/u/0?cid=Y18wMzAxZWRmNWRlZGI4ZThkNGRlZjRjMjkxODc2N2U5NjgyNmNmMDUxNWNjY2E1OGEwM2Q3NTRmOTVmYjdlMTI2QGdyb3VwLmNhbGVuZGFyLmdvb2dsZS5jb20)\n"
   ]
  },
  {
   "cell_type": "markdown",
   "metadata": {},
   "source": [
    "## Cohort-Agnostic Info"
   ]
  },
  {
   "cell_type": "markdown",
   "metadata": {},
   "source": [
    "- [Discord](https://deepatlas.ai/chat)\n",
    "- [Graduate Portfolio Project Bank](https://docs.google.com/document/d/1fqEc42p1bgaEze1zFoExaMi4pvjH-uOzXlmj-AxKiUA/edit#heading=h.l1f8nru7eryu)"
   ]
  }
 ],
 "metadata": {
  "language_info": {
   "name": "python"
  }
 },
 "nbformat": 4,
 "nbformat_minor": 2
}
